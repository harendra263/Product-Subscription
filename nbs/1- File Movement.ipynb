{
 "cells": [
  {
   "cell_type": "code",
   "execution_count": 1,
   "id": "ef9d688b",
   "metadata": {},
   "outputs": [],
   "source": [
    "\n",
    "import os\n",
    "import glob\n",
    "\n",
    "import shutil\n",
    "\n",
    "\n",
    "\n",
    "import pathlib"
   ]
  },
  {
   "cell_type": "code",
   "execution_count": 3,
   "id": "ed16df39",
   "metadata": {},
   "outputs": [],
   "source": [
    "BASE_DIR = pathlib.Path().resolve().parent\n",
    "DATASET_DIR = BASE_DIR / \"datasets\"\n",
    "DATASET_DIR.mkdir(exist_ok=True, parents=True)\n",
    "\n",
    "DATA_PATH = DATASET_DIR / \"input\"\n",
    "DESCRIPTION_DIR = DATASET_DIR / \"data_description\"\n",
    "\n",
    "DATA_PATH.mkdir(exist_ok=True, parents=True)\n",
    "DESCRIPTION_DIR.mkdir(exist_ok=True, parents=True)\n"
   ]
  },
  {
   "cell_type": "code",
   "execution_count": 11,
   "id": "4db2ba45",
   "metadata": {},
   "outputs": [
    {
     "data": {
      "text/plain": [
       "'/media/harendra/DATA/Product-Subscription/datasets/input/data.xlsx'"
      ]
     },
     "execution_count": 11,
     "metadata": {},
     "output_type": "execute_result"
    }
   ],
   "source": [
    "shutil.move(src=\"../input/data.xlsx\", dst=DATA_PATH)"
   ]
  },
  {
   "cell_type": "code",
   "execution_count": 20,
   "id": "33c8eda6",
   "metadata": {},
   "outputs": [
    {
     "data": {
      "text/plain": [
       "'/media/harendra/DATA/Product-Subscription/datasets/input/train_folds.csv'"
      ]
     },
     "execution_count": 20,
     "metadata": {},
     "output_type": "execute_result"
    }
   ],
   "source": [
    "shutil.move(src=\"../input/train_folds.csv\", dst=DATA_PATH)"
   ]
  },
  {
   "cell_type": "code",
   "execution_count": 21,
   "id": "b9fdf870",
   "metadata": {},
   "outputs": [
    {
     "data": {
      "text/plain": [
       "'/media/harendra/DATA/Product-Subscription/datasets/data_description/Banking_problem_statement.docx'"
      ]
     },
     "execution_count": 21,
     "metadata": {},
     "output_type": "execute_result"
    }
   ],
   "source": [
    "shutil.move(src=\"../input/Banking_problem_statement.docx\", dst=DESCRIPTION_DIR)"
   ]
  },
  {
   "cell_type": "code",
   "execution_count": 19,
   "id": "0dae77f0",
   "metadata": {},
   "outputs": [],
   "source": [
    "# file_extension = [\".csv\", \".xlsx\", \".docx\"]\n",
    "\n",
    "# for ext in file_extension:\n",
    "#     if (ext ==\".csv\") or (ext == \".xlsx\"):\n",
    "#         shutil.move(src = f\"../input/*{ext}\", dst=DATA_PATH)\n",
    "#     elif ext == \".docx\":\n",
    "#         shutil.move(src = f\"../input/*{ext}\", dst=DESCRIPTION_DIR)\n",
    "#     else:\n",
    "#         pass"
   ]
  },
  {
   "cell_type": "code",
   "execution_count": 18,
   "id": "aa8252f9",
   "metadata": {},
   "outputs": [
    {
     "data": {
      "text/plain": [
       "['../input/Banking_problem_statement.docx', '../input/train_folds.csv']"
      ]
     },
     "execution_count": 18,
     "metadata": {},
     "output_type": "execute_result"
    }
   ],
   "source": [
    "glob.glob(\"../input/*\")"
   ]
  },
  {
   "cell_type": "code",
   "execution_count": null,
   "id": "d30c5101",
   "metadata": {},
   "outputs": [],
   "source": []
  }
 ],
 "metadata": {
  "kernelspec": {
   "display_name": "Python 3 (ipykernel)",
   "language": "python",
   "name": "python3"
  },
  "language_info": {
   "codemirror_mode": {
    "name": "ipython",
    "version": 3
   },
   "file_extension": ".py",
   "mimetype": "text/x-python",
   "name": "python",
   "nbconvert_exporter": "python",
   "pygments_lexer": "ipython3",
   "version": "3.10.6"
  }
 },
 "nbformat": 4,
 "nbformat_minor": 5
}
